{
  "nbformat": 4,
  "nbformat_minor": 0,
  "metadata": {
    "colab": {
      "name": "Time_Series_Belajar_Pengembangan_Machine_Learning.ipynb",
      "provenance": [],
      "collapsed_sections": []
    },
    "kernelspec": {
      "name": "python3",
      "display_name": "Python 3"
    },
    "language_info": {
      "name": "python"
    }
  },
  "cells": [
    {
      "cell_type": "markdown",
      "metadata": {
        "id": "lNm2JyLvk_15"
      },
      "source": [
        "# Submisi Time Series Belajar Pengembangan Machine Learning\n",
        "# Predict total revenue\n",
        "## Nama : Husni Naufal Zuhdi"
      ]
    },
    {
      "cell_type": "markdown",
      "metadata": {
        "id": "GtLdUC2gnSAk"
      },
      "source": [
        "## Scoring Criterias"
      ]
    },
    {
      "cell_type": "markdown",
      "metadata": {
        "id": "C7u9KSOBdLLH"
      },
      "source": [
        "Minimum Criteria\n",
        "1. Dataset yang akan dipakai bebas, namun minimal memiliki 1000 sampel.(v)\n",
        "2. Harus menggunakan LSTM dalam arsitektur model.(v)\n",
        "3. Validation set sebesar 20% dari total dataset.(v)\n",
        "4. Model harus menggunakan model sequential.(v)\n",
        "5. Harus menggunakan Learning Rate pada Optimizer.(v)\n",
        "6. MAE < 10% skala data.(v)\n",
        "\n",
        "High Score Criteria\n",
        "1. Dataset yang digunakan memiliki banyak sampel data.(v)\n",
        "2. Mengimplementasikan Callback.(v)\n",
        "3. Membuat plot loss dan akurasi pada saat training dan validation.(v)\n",
        "\n",
        "4 Star Criteria\n",
        "1. Semua ketentuan terpenuhi.(v)\n",
        "2. Dataset memiliki minimal 2000 sampel data.(v)\n",
        "3. MAE dari model < 10% skala data.(v)\n",
        "\n",
        "5 Star Criteria\n",
        "1. Semua ketentuan terpenuhi.(v)\n",
        "2. Dataset memiliki minimal 10000 sampel data.(x)\n",
        "3. MAE dari model < 10% skala data.(v)"
      ]
    },
    {
      "cell_type": "markdown",
      "metadata": {
        "id": "hffRr18QfFUd"
      },
      "source": [
        "## Pre Processing"
      ]
    },
    {
      "cell_type": "code",
      "metadata": {
        "id": "NeFPiv2fYE5f"
      },
      "source": [
        "# The process to acces Kaggle API refer to this article\n",
        "# https://www.kaggle.com/general/74235\n",
        "# Install kaggle API\n",
        "! pip install -q kaggle"
      ],
      "execution_count": 1,
      "outputs": []
    },
    {
      "cell_type": "code",
      "metadata": {
        "id": "nna3ocvEYseQ"
      },
      "source": [
        "# Insert my kaggle json key\n",
        "from google.colab import files\n",
        "! mkdir ~/.kaggle\n",
        "! cp kaggle.json ~/.kaggle/\n",
        "! chmod 600 ~/.kaggle/kaggle.json"
      ],
      "execution_count": 2,
      "outputs": []
    },
    {
      "cell_type": "code",
      "metadata": {
        "colab": {
          "base_uri": "https://localhost:8080/"
        },
        "id": "0-WWs-9gY8DM",
        "outputId": "f62a053d-dca1-4c47-c621-33de8aa7a4cd"
      },
      "source": [
        "# # Download E-Commerce Data\n",
        "# # https://www.kaggle.com/carrie1/ecommerce-data\n",
        "! kaggle datasets download -d carrie1/ecommerce-data"
      ],
      "execution_count": 3,
      "outputs": [
        {
          "output_type": "stream",
          "text": [
            "Downloading ecommerce-data.zip to /content\n",
            " 69% 5.00M/7.20M [00:00<00:00, 34.4MB/s]\n",
            "100% 7.20M/7.20M [00:00<00:00, 35.2MB/s]\n"
          ],
          "name": "stdout"
        }
      ]
    },
    {
      "cell_type": "code",
      "metadata": {
        "colab": {
          "base_uri": "https://localhost:8080/"
        },
        "id": "Garhc8wnZ7xO",
        "outputId": "07163d87-05f3-4411-af3b-f5765464966d"
      },
      "source": [
        "# Unzip the dataset\n",
        "! unzip /content/ecommerce-data.zip"
      ],
      "execution_count": 4,
      "outputs": [
        {
          "output_type": "stream",
          "text": [
            "Archive:  /content/ecommerce-data.zip\n",
            "  inflating: data.csv                \n"
          ],
          "name": "stdout"
        }
      ]
    },
    {
      "cell_type": "code",
      "metadata": {
        "id": "529s7NUwlK2x"
      },
      "source": [
        "# Import libraries\n",
        "import numpy as np\n",
        "import pandas as pd\n",
        "import matplotlib.pyplot as plt\n",
        "import tensorflow as tf\n",
        "from sklearn.model_selection import train_test_split\n",
        "from keras.layers import Dense, LSTM"
      ],
      "execution_count": 5,
      "outputs": []
    },
    {
      "cell_type": "code",
      "metadata": {
        "colab": {
          "base_uri": "https://localhost:8080/",
          "height": 189
        },
        "id": "Uof2d3WEjb6U",
        "outputId": "49ddaa7a-89e1-43b2-f15d-c97518d19807"
      },
      "source": [
        "# Read train csv file\n",
        "df = pd.read_csv('/content/data.csv', encoding= 'unicode_escape')\n",
        "df.head()"
      ],
      "execution_count": 6,
      "outputs": [
        {
          "output_type": "execute_result",
          "data": {
            "text/html": [
              "<div>\n",
              "<style scoped>\n",
              "    .dataframe tbody tr th:only-of-type {\n",
              "        vertical-align: middle;\n",
              "    }\n",
              "\n",
              "    .dataframe tbody tr th {\n",
              "        vertical-align: top;\n",
              "    }\n",
              "\n",
              "    .dataframe thead th {\n",
              "        text-align: right;\n",
              "    }\n",
              "</style>\n",
              "<table border=\"1\" class=\"dataframe\">\n",
              "  <thead>\n",
              "    <tr style=\"text-align: right;\">\n",
              "      <th></th>\n",
              "      <th>InvoiceNo</th>\n",
              "      <th>StockCode</th>\n",
              "      <th>Description</th>\n",
              "      <th>Quantity</th>\n",
              "      <th>InvoiceDate</th>\n",
              "      <th>UnitPrice</th>\n",
              "      <th>CustomerID</th>\n",
              "      <th>Country</th>\n",
              "    </tr>\n",
              "  </thead>\n",
              "  <tbody>\n",
              "    <tr>\n",
              "      <th>0</th>\n",
              "      <td>536365</td>\n",
              "      <td>85123A</td>\n",
              "      <td>WHITE HANGING HEART T-LIGHT HOLDER</td>\n",
              "      <td>6</td>\n",
              "      <td>12/1/2010 8:26</td>\n",
              "      <td>2.55</td>\n",
              "      <td>17850.0</td>\n",
              "      <td>United Kingdom</td>\n",
              "    </tr>\n",
              "    <tr>\n",
              "      <th>1</th>\n",
              "      <td>536365</td>\n",
              "      <td>71053</td>\n",
              "      <td>WHITE METAL LANTERN</td>\n",
              "      <td>6</td>\n",
              "      <td>12/1/2010 8:26</td>\n",
              "      <td>3.39</td>\n",
              "      <td>17850.0</td>\n",
              "      <td>United Kingdom</td>\n",
              "    </tr>\n",
              "    <tr>\n",
              "      <th>2</th>\n",
              "      <td>536365</td>\n",
              "      <td>84406B</td>\n",
              "      <td>CREAM CUPID HEARTS COAT HANGER</td>\n",
              "      <td>8</td>\n",
              "      <td>12/1/2010 8:26</td>\n",
              "      <td>2.75</td>\n",
              "      <td>17850.0</td>\n",
              "      <td>United Kingdom</td>\n",
              "    </tr>\n",
              "    <tr>\n",
              "      <th>3</th>\n",
              "      <td>536365</td>\n",
              "      <td>84029G</td>\n",
              "      <td>KNITTED UNION FLAG HOT WATER BOTTLE</td>\n",
              "      <td>6</td>\n",
              "      <td>12/1/2010 8:26</td>\n",
              "      <td>3.39</td>\n",
              "      <td>17850.0</td>\n",
              "      <td>United Kingdom</td>\n",
              "    </tr>\n",
              "    <tr>\n",
              "      <th>4</th>\n",
              "      <td>536365</td>\n",
              "      <td>84029E</td>\n",
              "      <td>RED WOOLLY HOTTIE WHITE HEART.</td>\n",
              "      <td>6</td>\n",
              "      <td>12/1/2010 8:26</td>\n",
              "      <td>3.39</td>\n",
              "      <td>17850.0</td>\n",
              "      <td>United Kingdom</td>\n",
              "    </tr>\n",
              "  </tbody>\n",
              "</table>\n",
              "</div>"
            ],
            "text/plain": [
              "  InvoiceNo StockCode  ... CustomerID         Country\n",
              "0    536365    85123A  ...    17850.0  United Kingdom\n",
              "1    536365     71053  ...    17850.0  United Kingdom\n",
              "2    536365    84406B  ...    17850.0  United Kingdom\n",
              "3    536365    84029G  ...    17850.0  United Kingdom\n",
              "4    536365    84029E  ...    17850.0  United Kingdom\n",
              "\n",
              "[5 rows x 8 columns]"
            ]
          },
          "metadata": {
            "tags": []
          },
          "execution_count": 6
        }
      ]
    },
    {
      "cell_type": "code",
      "metadata": {
        "colab": {
          "base_uri": "https://localhost:8080/"
        },
        "id": "SQVylfVSX_jz",
        "outputId": "27f35df9-4a5c-4390-a5fc-57ae0eeba6a7"
      },
      "source": [
        "# Gain insights\n",
        "df.info()"
      ],
      "execution_count": 7,
      "outputs": [
        {
          "output_type": "stream",
          "text": [
            "<class 'pandas.core.frame.DataFrame'>\n",
            "RangeIndex: 541909 entries, 0 to 541908\n",
            "Data columns (total 8 columns):\n",
            " #   Column       Non-Null Count   Dtype  \n",
            "---  ------       --------------   -----  \n",
            " 0   InvoiceNo    541909 non-null  object \n",
            " 1   StockCode    541909 non-null  object \n",
            " 2   Description  540455 non-null  object \n",
            " 3   Quantity     541909 non-null  int64  \n",
            " 4   InvoiceDate  541909 non-null  object \n",
            " 5   UnitPrice    541909 non-null  float64\n",
            " 6   CustomerID   406829 non-null  float64\n",
            " 7   Country      541909 non-null  object \n",
            "dtypes: float64(2), int64(1), object(5)\n",
            "memory usage: 33.1+ MB\n"
          ],
          "name": "stdout"
        }
      ]
    },
    {
      "cell_type": "code",
      "metadata": {
        "colab": {
          "base_uri": "https://localhost:8080/"
        },
        "id": "jDiqi0VfYKmA",
        "outputId": "f9af1732-228b-4b55-b76c-f7526c4b4c66"
      },
      "source": [
        "# Check Null Value\n",
        "df.isnull().sum()"
      ],
      "execution_count": 8,
      "outputs": [
        {
          "output_type": "execute_result",
          "data": {
            "text/plain": [
              "InvoiceNo           0\n",
              "StockCode           0\n",
              "Description      1454\n",
              "Quantity            0\n",
              "InvoiceDate         0\n",
              "UnitPrice           0\n",
              "CustomerID     135080\n",
              "Country             0\n",
              "dtype: int64"
            ]
          },
          "metadata": {
            "tags": []
          },
          "execution_count": 8
        }
      ]
    },
    {
      "cell_type": "code",
      "metadata": {
        "id": "KAa8ZaOHbjIp"
      },
      "source": [
        "# Pre processing data.csv\n",
        "# Convert Invoice Date data type into date type\n",
        "df['InvoiceDate'] = pd.to_datetime(df['InvoiceDate'], dayfirst=True)\n",
        "df.sort_values('InvoiceDate', inplace=True)"
      ],
      "execution_count": 9,
      "outputs": []
    },
    {
      "cell_type": "code",
      "metadata": {
        "id": "IFgdGVgTMPxl"
      },
      "source": [
        "# Combine Quantity * Unit Price to get Total Revenue/purchase\n",
        "df['TotalRevenue'] = df['Quantity'] * df['UnitPrice']"
      ],
      "execution_count": 10,
      "outputs": []
    },
    {
      "cell_type": "code",
      "metadata": {
        "colab": {
          "base_uri": "https://localhost:8080/",
          "height": 189
        },
        "id": "1xj8cOXvMRWQ",
        "outputId": "886c9b44-e130-43c6-b4bc-74d49507658e"
      },
      "source": [
        "# Agregate Total Revenue/purchase into Total Revenue/day\n",
        "df = df.groupby('InvoiceDate')[['Quantity', 'TotalRevenue']] \\\n",
        "                .sum().reset_index()\n",
        "df.head()"
      ],
      "execution_count": 11,
      "outputs": [
        {
          "output_type": "execute_result",
          "data": {
            "text/html": [
              "<div>\n",
              "<style scoped>\n",
              "    .dataframe tbody tr th:only-of-type {\n",
              "        vertical-align: middle;\n",
              "    }\n",
              "\n",
              "    .dataframe tbody tr th {\n",
              "        vertical-align: top;\n",
              "    }\n",
              "\n",
              "    .dataframe thead th {\n",
              "        text-align: right;\n",
              "    }\n",
              "</style>\n",
              "<table border=\"1\" class=\"dataframe\">\n",
              "  <thead>\n",
              "    <tr style=\"text-align: right;\">\n",
              "      <th></th>\n",
              "      <th>InvoiceDate</th>\n",
              "      <th>Quantity</th>\n",
              "      <th>TotalRevenue</th>\n",
              "    </tr>\n",
              "  </thead>\n",
              "  <tbody>\n",
              "    <tr>\n",
              "      <th>0</th>\n",
              "      <td>2010-01-12 08:26:00</td>\n",
              "      <td>40</td>\n",
              "      <td>139.12</td>\n",
              "    </tr>\n",
              "    <tr>\n",
              "      <th>1</th>\n",
              "      <td>2010-01-12 08:28:00</td>\n",
              "      <td>12</td>\n",
              "      <td>22.20</td>\n",
              "    </tr>\n",
              "    <tr>\n",
              "      <th>2</th>\n",
              "      <td>2010-01-12 08:34:00</td>\n",
              "      <td>98</td>\n",
              "      <td>348.78</td>\n",
              "    </tr>\n",
              "    <tr>\n",
              "      <th>3</th>\n",
              "      <td>2010-01-12 08:35:00</td>\n",
              "      <td>3</td>\n",
              "      <td>17.85</td>\n",
              "    </tr>\n",
              "    <tr>\n",
              "      <th>4</th>\n",
              "      <td>2010-01-12 08:45:00</td>\n",
              "      <td>449</td>\n",
              "      <td>855.86</td>\n",
              "    </tr>\n",
              "  </tbody>\n",
              "</table>\n",
              "</div>"
            ],
            "text/plain": [
              "          InvoiceDate  Quantity  TotalRevenue\n",
              "0 2010-01-12 08:26:00        40        139.12\n",
              "1 2010-01-12 08:28:00        12         22.20\n",
              "2 2010-01-12 08:34:00        98        348.78\n",
              "3 2010-01-12 08:35:00         3         17.85\n",
              "4 2010-01-12 08:45:00       449        855.86"
            ]
          },
          "metadata": {
            "tags": []
          },
          "execution_count": 11
        }
      ]
    },
    {
      "cell_type": "code",
      "metadata": {
        "colab": {
          "base_uri": "https://localhost:8080/",
          "height": 189
        },
        "id": "F1vbEKIiLS16",
        "outputId": "fcf86b2e-8df3-45d0-bd00-f82a6347478d"
      },
      "source": [
        "# Transform dataset period to hourly\n",
        "hourly_sales = df.resample('1H', on = 'InvoiceDate').sum().reset_index()\n",
        "hourly_sales.head()"
      ],
      "execution_count": 12,
      "outputs": [
        {
          "output_type": "execute_result",
          "data": {
            "text/html": [
              "<div>\n",
              "<style scoped>\n",
              "    .dataframe tbody tr th:only-of-type {\n",
              "        vertical-align: middle;\n",
              "    }\n",
              "\n",
              "    .dataframe tbody tr th {\n",
              "        vertical-align: top;\n",
              "    }\n",
              "\n",
              "    .dataframe thead th {\n",
              "        text-align: right;\n",
              "    }\n",
              "</style>\n",
              "<table border=\"1\" class=\"dataframe\">\n",
              "  <thead>\n",
              "    <tr style=\"text-align: right;\">\n",
              "      <th></th>\n",
              "      <th>InvoiceDate</th>\n",
              "      <th>Quantity</th>\n",
              "      <th>TotalRevenue</th>\n",
              "    </tr>\n",
              "  </thead>\n",
              "  <tbody>\n",
              "    <tr>\n",
              "      <th>0</th>\n",
              "      <td>2010-01-12 08:00:00</td>\n",
              "      <td>602</td>\n",
              "      <td>1383.81</td>\n",
              "    </tr>\n",
              "    <tr>\n",
              "      <th>1</th>\n",
              "      <td>2010-01-12 09:00:00</td>\n",
              "      <td>3259</td>\n",
              "      <td>7324.24</td>\n",
              "    </tr>\n",
              "    <tr>\n",
              "      <th>2</th>\n",
              "      <td>2010-01-12 10:00:00</td>\n",
              "      <td>2794</td>\n",
              "      <td>5094.33</td>\n",
              "    </tr>\n",
              "    <tr>\n",
              "      <th>3</th>\n",
              "      <td>2010-01-12 11:00:00</td>\n",
              "      <td>2356</td>\n",
              "      <td>4234.16</td>\n",
              "    </tr>\n",
              "    <tr>\n",
              "      <th>4</th>\n",
              "      <td>2010-01-12 12:00:00</td>\n",
              "      <td>4161</td>\n",
              "      <td>7422.42</td>\n",
              "    </tr>\n",
              "  </tbody>\n",
              "</table>\n",
              "</div>"
            ],
            "text/plain": [
              "          InvoiceDate  Quantity  TotalRevenue\n",
              "0 2010-01-12 08:00:00       602       1383.81\n",
              "1 2010-01-12 09:00:00      3259       7324.24\n",
              "2 2010-01-12 10:00:00      2794       5094.33\n",
              "3 2010-01-12 11:00:00      2356       4234.16\n",
              "4 2010-01-12 12:00:00      4161       7422.42"
            ]
          },
          "metadata": {
            "tags": []
          },
          "execution_count": 12
        }
      ]
    },
    {
      "cell_type": "code",
      "metadata": {
        "colab": {
          "base_uri": "https://localhost:8080/"
        },
        "id": "FYw6xX9qMHgi",
        "outputId": "f0406fb1-32ac-4b10-ade1-e9849aa54e3f"
      },
      "source": [
        "# Check Null Value\n",
        "hourly_sales.isnull().sum()"
      ],
      "execution_count": 13,
      "outputs": [
        {
          "output_type": "execute_result",
          "data": {
            "text/plain": [
              "InvoiceDate     0\n",
              "Quantity        0\n",
              "TotalRevenue    0\n",
              "dtype: int64"
            ]
          },
          "metadata": {
            "tags": []
          },
          "execution_count": 13
        }
      ]
    },
    {
      "cell_type": "code",
      "metadata": {
        "colab": {
          "base_uri": "https://localhost:8080/"
        },
        "id": "MdK4V8v2OHyA",
        "outputId": "81537773-5c53-4172-cc44-f8422c10c81f"
      },
      "source": [
        "# Check dataset info\n",
        "hourly_sales.info()"
      ],
      "execution_count": 14,
      "outputs": [
        {
          "output_type": "stream",
          "text": [
            "<class 'pandas.core.frame.DataFrame'>\n",
            "RangeIndex: 16738 entries, 0 to 16737\n",
            "Data columns (total 3 columns):\n",
            " #   Column        Non-Null Count  Dtype         \n",
            "---  ------        --------------  -----         \n",
            " 0   InvoiceDate   16738 non-null  datetime64[ns]\n",
            " 1   Quantity      16738 non-null  int64         \n",
            " 2   TotalRevenue  16738 non-null  float64       \n",
            "dtypes: datetime64[ns](1), float64(1), int64(1)\n",
            "memory usage: 392.4 KB\n"
          ],
          "name": "stdout"
        }
      ]
    },
    {
      "cell_type": "code",
      "metadata": {
        "id": "jAHEjyENilAj"
      },
      "source": [
        "# Convert dataset into numpy array\n",
        "dates = hourly_sales['InvoiceDate'].values\n",
        "quantity = hourly_sales['Quantity'].values\n",
        "tot_rev  = hourly_sales['TotalRevenue'].values"
      ],
      "execution_count": 15,
      "outputs": []
    },
    {
      "cell_type": "code",
      "metadata": {
        "colab": {
          "base_uri": "https://localhost:8080/",
          "height": 340
        },
        "id": "4z8Gg5w2Np14",
        "outputId": "af736106-cdad-4b7d-afc5-d10827577cae"
      },
      "source": [
        "# Plot sales quantity\n",
        "plt.figure(figsize=(15,5))\n",
        "plt.plot(dates, quantity)\n",
        "plt.title('Sales Quantity',fontsize=20);"
      ],
      "execution_count": 16,
      "outputs": [
        {
          "output_type": "display_data",
          "data": {
            "image/png": "[encoded data removed]",
            "text/plain": [
              "<Figure size 1080x360 with 1 Axes>"
            ]
          },
          "metadata": {
            "tags": [],
            "needs_background": "light"
          }
        }
      ]
    },
    {
      "cell_type": "code",
      "metadata": {
        "colab": {
          "base_uri": "https://localhost:8080/",
          "height": 340
        },
        "id": "xCOgdm0_N6Ch",
        "outputId": "58c554cf-bb40-4ad5-e4ef-43442163ec1c"
      },
      "source": [
        "# Plot total revenue\n",
        "plt.figure(figsize=(15,5))\n",
        "plt.plot(dates, tot_rev)\n",
        "plt.title('Total Revenue',fontsize=20);"
      ],
      "execution_count": 17,
      "outputs": [
        {
          "output_type": "display_data",
          "data": {
            "image/png": "[encoded data removed]",
            "text/plain": [
              "<Figure size 1080x360 with 1 Axes>"
            ]
          },
          "metadata": {
            "tags": [],
            "needs_background": "light"
          }
        }
      ]
    },
    {
      "cell_type": "markdown",
      "metadata": {
        "id": "rrumCSXqPil0"
      },
      "source": [
        "Because the dataset does not contain much data in the frist year, we need to ampute the first year data an continue use the second year data.\n",
        "\n",
        "Ampute the data from row 0 to row 8000\n",
        "\n",
        "24(hour/day)*365(day/year)*1(year) = 8760 or approximate 8000"
      ]
    },
    {
      "cell_type": "code",
      "metadata": {
        "id": "zxah8dI1PdZt"
      },
      "source": [
        "# Ampute the first 8500 rows\n",
        "hourly_sales_2 = hourly_sales.iloc[8000:,:]\n",
        "# Convert dataset into numpy array\n",
        "dates_2 = hourly_sales_2['InvoiceDate'].values\n",
        "quantity_2 = hourly_sales_2['Quantity'].values\n",
        "quantity_2 = tf.cast(quantity_2, dtype='float64')\n",
        "tot_rev_2  = hourly_sales_2['TotalRevenue'].values\n",
        "tot_rev_2 = tf.cast(tot_rev_2, dtype='float64')"
      ],
      "execution_count": 18,
      "outputs": []
    },
    {
      "cell_type": "code",
      "metadata": {
        "colab": {
          "base_uri": "https://localhost:8080/"
        },
        "id": "lJsbQXUIRKfa",
        "outputId": "a52fd2c1-5688-422a-f531-c21c72866108"
      },
      "source": [
        "# Check the dataset info\n",
        "hourly_sales_2.info()"
      ],
      "execution_count": 19,
      "outputs": [
        {
          "output_type": "stream",
          "text": [
            "<class 'pandas.core.frame.DataFrame'>\n",
            "RangeIndex: 8738 entries, 8000 to 16737\n",
            "Data columns (total 3 columns):\n",
            " #   Column        Non-Null Count  Dtype         \n",
            "---  ------        --------------  -----         \n",
            " 0   InvoiceDate   8738 non-null   datetime64[ns]\n",
            " 1   Quantity      8738 non-null   int64         \n",
            " 2   TotalRevenue  8738 non-null   float64       \n",
            "dtypes: datetime64[ns](1), float64(1), int64(1)\n",
            "memory usage: 204.9 KB\n"
          ],
          "name": "stdout"
        }
      ]
    },
    {
      "cell_type": "code",
      "metadata": {
        "colab": {
          "base_uri": "https://localhost:8080/",
          "height": 340
        },
        "id": "0zChd8lYQ-0s",
        "outputId": "5ad855f1-0266-4059-939c-e056cf493bcc"
      },
      "source": [
        "# Plot sales quantity\n",
        "plt.figure(figsize=(15,5))\n",
        "plt.plot(dates_2, quantity_2)\n",
        "plt.title('Sales Quantity in Second Year',fontsize=20);"
      ],
      "execution_count": 20,
      "outputs": [
        {
          "output_type": "display_data",
          "data": {
            "image/png": "[encoded data removed]",
            "text/plain": [
              "<Figure size 1080x360 with 1 Axes>"
            ]
          },
          "metadata": {
            "tags": [],
            "needs_background": "light"
          }
        }
      ]
    },
    {
      "cell_type": "code",
      "metadata": {
        "colab": {
          "base_uri": "https://localhost:8080/",
          "height": 340
        },
        "id": "oQuo7C9NQ-0t",
        "outputId": "a19e8dc1-a0dd-42fa-a740-2959809dc1b5"
      },
      "source": [
        "# Plot total revenue\n",
        "plt.figure(figsize=(15,5))\n",
        "plt.plot(dates_2, tot_rev_2)\n",
        "plt.title('Total Revenue in Second Year',fontsize=20);"
      ],
      "execution_count": 21,
      "outputs": [
        {
          "output_type": "display_data",
          "data": {
            "image/png": "[encoded data removed]",
            "text/plain": [
              "<Figure size 1080x360 with 1 Axes>"
            ]
          },
          "metadata": {
            "tags": [],
            "needs_background": "light"
          }
        }
      ]
    },
    {
      "cell_type": "markdown",
      "metadata": {
        "id": "3LjEekxyR324"
      },
      "source": [
        "This is better"
      ]
    },
    {
      "cell_type": "code",
      "metadata": {
        "id": "9ECiQ085jOsM"
      },
      "source": [
        "# Split data into train and test data\n",
        "dates_train, dates_test= np.split(dates_2, [int(.80 *len(dates_2))])\n",
        "quantity_train, quantity_test= np.split(quantity_2, [int(.80 *len(quantity_2))])\n",
        "tot_rev_train, tot_rev_test= np.split(tot_rev_2, [int(.80 *len(tot_rev_2))])"
      ],
      "execution_count": 22,
      "outputs": []
    },
    {
      "cell_type": "markdown",
      "metadata": {
        "id": "2_uT4u1Afli9"
      },
      "source": [
        "## Build Machine Learning Model"
      ]
    },
    {
      "cell_type": "code",
      "metadata": {
        "id": "OVEBFHCYSmCA"
      },
      "source": [
        "# Build windowed dataset function\n",
        "def windowed_dataset(series, window_size, batch_size, shuffle_buffer):\n",
        "    series = tf.expand_dims(series, axis=-1)\n",
        "    ds = tf.data.Dataset.from_tensor_slices(series)\n",
        "    ds = ds.window(window_size + 1, shift=1, drop_remainder=True)\n",
        "    ds = ds.flat_map(lambda w: w.batch(window_size + 1))\n",
        "    ds = ds.shuffle(shuffle_buffer)\n",
        "    ds = ds.map(lambda w: (w[:-1], w[-1:]))\n",
        "    return ds.batch(batch_size).prefetch(1)"
      ],
      "execution_count": 23,
      "outputs": []
    },
    {
      "cell_type": "code",
      "metadata": {
        "id": "1t3pJWWRW5s9"
      },
      "source": [
        "# Make Train and Test sets\n",
        "quantity_train_set = windowed_dataset(quantity_train,\n",
        "                                      window_size=60,\n",
        "                                      batch_size=100,\n",
        "                                      shuffle_buffer=1000)\n",
        "quantity_test_set = windowed_dataset(quantity_test,\n",
        "                                      window_size=60,\n",
        "                                      batch_size=100,\n",
        "                                      shuffle_buffer=1000)\n",
        "revenue_train_set = windowed_dataset(tot_rev_train,\n",
        "                                      window_size=60,\n",
        "                                      batch_size=100,\n",
        "                                      shuffle_buffer=1000)\n",
        "revenue_test_set = windowed_dataset(tot_rev_test,\n",
        "                                      window_size=60,\n",
        "                                      batch_size=100,\n",
        "                                      shuffle_buffer=1000)"
      ],
      "execution_count": 24,
      "outputs": []
    },
    {
      "cell_type": "code",
      "metadata": {
        "id": "QxOEgdJtf3t7"
      },
      "source": [
        "# Build our Model\n",
        "model = tf.keras.models.Sequential([\n",
        "  tf.keras.layers.LSTM(60, return_sequences=True),\n",
        "  tf.keras.layers.LSTM(128),\n",
        "  tf.keras.layers.Dense(128, activation=\"relu\"),\n",
        "  tf.keras.layers.Dense(64, activation=\"relu\"),\n",
        "  tf.keras.layers.Dense(1),\n",
        "])\n",
        "optimizer = tf.keras.optimizers.SGD(learning_rate=0.0005, momentum=0.5)\n",
        "model.compile(loss=tf.keras.losses.Huber(),\n",
        "              optimizer=optimizer,\n",
        "              metrics=[\"mae\"])"
      ],
      "execution_count": 40,
      "outputs": []
    },
    {
      "cell_type": "code",
      "metadata": {
        "colab": {
          "base_uri": "https://localhost:8080/"
        },
        "id": "0zj_VOF5n5zY",
        "outputId": "76f6b73a-30bb-4aef-9fdd-c60b012694c2"
      },
      "source": [
        "# Check the description of TotalRevenue Column to get max and min values\n",
        "hourly_sales_2['TotalRevenue'].describe()"
      ],
      "execution_count": 26,
      "outputs": [
        {
          "output_type": "execute_result",
          "data": {
            "text/plain": [
              "count     8738.000000\n",
              "mean      1065.787889\n",
              "std       2791.702097\n",
              "min     -32651.680000\n",
              "25%          0.000000\n",
              "50%          0.000000\n",
              "75%        932.462500\n",
              "max      54089.630000\n",
              "Name: TotalRevenue, dtype: float64"
            ]
          },
          "metadata": {
            "tags": []
          },
          "execution_count": 26
        }
      ]
    },
    {
      "cell_type": "code",
      "metadata": {
        "colab": {
          "base_uri": "https://localhost:8080/"
        },
        "id": "qUSoPCbxwHm_",
        "outputId": "572493ff-dcda-4412-894d-6812c802c1a3"
      },
      "source": [
        "# Check the description of Quantity Column to get max and min values\n",
        "hourly_sales_2['Quantity'].describe()"
      ],
      "execution_count": 27,
      "outputs": [
        {
          "output_type": "execute_result",
          "data": {
            "text/plain": [
              "count     8738.000000\n",
              "mean       571.012245\n",
              "std       1462.024151\n",
              "min     -27322.000000\n",
              "25%          0.000000\n",
              "50%          0.000000\n",
              "75%        492.750000\n",
              "max      20796.000000\n",
              "Name: Quantity, dtype: float64"
            ]
          },
          "metadata": {
            "tags": []
          },
          "execution_count": 27
        }
      ]
    },
    {
      "cell_type": "markdown",
      "metadata": {
        "id": "QL80xJJDo0M7"
      },
      "source": [
        "To Calculate Scale of Data we need max value and min value from our dataset\n",
        "\n",
        "1. TotalRevenue\n",
        "\n",
        "* (max-min) = 54089.630000 - (-32651.680000) = 86741.31\n",
        "* (max-min) = ABS(54089.630000) - ABS(-32651.680000) = 21437.95\n",
        "\n",
        "We will only use TotalRevenue feature because the Quantity feature data scale have negative value (I like to play it safe :) )\n",
        "\n",
        "Criteraia given by dicoding are we need to get MAE score bellow 10% of Data Scale\n",
        "\n",
        "* 0.1*86741.31 = 8674.131\n",
        "* 0.1*21437.95 = 2143.795"
      ]
    },
    {
      "cell_type": "code",
      "metadata": {
        "id": "cjlR-WAkrZPV"
      },
      "source": [
        "# Build Callback Class\n",
        "class myCallback(tf.keras.callbacks.Callback):\n",
        "  def on_epoch_end(self, epoch, logs={}):\n",
        "    if(logs.get('mae')<500):\n",
        "      if(logs.get('val_mae')<500):\n",
        "        print(\"\\nModel Mean Absolute Error and Validation Mean Absolute Error bellow 500!\")\n",
        "        self.model.stop_training = True\n",
        "callbacks = myCallback()"
      ],
      "execution_count": 37,
      "outputs": []
    },
    {
      "cell_type": "markdown",
      "metadata": {
        "id": "lm0qdWGjf5EB"
      },
      "source": [
        "## Train and Test Model"
      ]
    },
    {
      "cell_type": "code",
      "metadata": {
        "colab": {
          "base_uri": "https://localhost:8080/"
        },
        "id": "Urgm21bGf6lj",
        "outputId": "56b65697-22ff-4f9f-cacb-9502099ca9cb"
      },
      "source": [
        "# Test our Machine Learning Model to predict Total Revenue\n",
        "num_epochs = 200\n",
        "history = model.fit(revenue_train_set,\n",
        "                    validation_data=revenue_test_set,\n",
        "                    epochs=num_epochs,\n",
        "                    callbacks=[callbacks])"
      ],
      "execution_count": 41,
      "outputs": [
        {
          "output_type": "stream",
          "text": [
            "Epoch 1/200\n",
            "70/70 [==============================] - 22s 259ms/step - loss: 1014.7440 - mae: 1014.9705 - val_loss: 1456.6792 - val_mae: 1456.9487\n",
            "Epoch 2/200\n",
            "70/70 [==============================] - 16s 231ms/step - loss: 1014.7103 - mae: 1014.9807 - val_loss: 1456.6460 - val_mae: 1456.9521\n",
            "Epoch 3/200\n",
            "70/70 [==============================] - 16s 232ms/step - loss: 1014.6871 - mae: 1014.9891 - val_loss: 1456.6230 - val_mae: 1456.9534\n",
            "Epoch 4/200\n",
            "70/70 [==============================] - 16s 232ms/step - loss: 1014.6711 - mae: 1014.9937 - val_loss: 1456.6062 - val_mae: 1456.9520\n",
            "Epoch 5/200\n",
            "70/70 [==============================] - 16s 232ms/step - loss: 1014.6591 - mae: 1014.9948 - val_loss: 1456.5925 - val_mae: 1456.9481\n",
            "Epoch 6/200\n",
            "70/70 [==============================] - 16s 230ms/step - loss: 1014.6487 - mae: 1014.9918 - val_loss: 1456.5804 - val_mae: 1456.9410\n",
            "Epoch 7/200\n",
            "70/70 [==============================] - 16s 230ms/step - loss: 1014.6391 - mae: 1014.9869 - val_loss: 1456.5688 - val_mae: 1456.9320\n",
            "Epoch 8/200\n",
            "70/70 [==============================] - 17s 236ms/step - loss: 1014.6296 - mae: 1014.9794 - val_loss: 1456.5571 - val_mae: 1456.9218\n",
            "Epoch 9/200\n",
            "70/70 [==============================] - 17s 242ms/step - loss: 1014.6198 - mae: 1014.9716 - val_loss: 1456.5447 - val_mae: 1456.9102\n",
            "Epoch 10/200\n",
            "70/70 [==============================] - 17s 241ms/step - loss: 1014.6098 - mae: 1014.9619 - val_loss: 1456.5325 - val_mae: 1456.8975\n",
            "Epoch 11/200\n",
            "70/70 [==============================] - 16s 231ms/step - loss: 1014.5994 - mae: 1014.9509 - val_loss: 1456.5192 - val_mae: 1456.8849\n",
            "Epoch 12/200\n",
            "70/70 [==============================] - 16s 233ms/step - loss: 1014.5884 - mae: 1014.9413 - val_loss: 1456.5054 - val_mae: 1456.8719\n",
            "Epoch 13/200\n",
            "70/70 [==============================] - 16s 232ms/step - loss: 1014.5765 - mae: 1014.9310 - val_loss: 1456.4908 - val_mae: 1456.8572\n",
            "Epoch 14/200\n",
            "70/70 [==============================] - 17s 234ms/step - loss: 1014.5645 - mae: 1014.9185 - val_loss: 1456.4757 - val_mae: 1456.8417\n",
            "Epoch 15/200\n",
            "70/70 [==============================] - 16s 232ms/step - loss: 1014.5511 - mae: 1014.9057 - val_loss: 1456.4591 - val_mae: 1456.8246\n",
            "Epoch 16/200\n",
            "70/70 [==============================] - 16s 233ms/step - loss: 1014.5371 - mae: 1014.8913 - val_loss: 1456.4412 - val_mae: 1456.8063\n",
            "Epoch 17/200\n",
            "70/70 [==============================] - 16s 232ms/step - loss: 1014.5218 - mae: 1014.8754 - val_loss: 1456.4220 - val_mae: 1456.7860\n",
            "Epoch 18/200\n",
            "70/70 [==============================] - 16s 233ms/step - loss: 1014.5046 - mae: 1014.8577 - val_loss: 1456.3992 - val_mae: 1456.7612\n",
            "Epoch 19/200\n",
            "70/70 [==============================] - 16s 233ms/step - loss: 1014.4855 - mae: 1014.8372 - val_loss: 1456.3760 - val_mae: 1456.7379\n",
            "Epoch 20/200\n",
            "70/70 [==============================] - 17s 234ms/step - loss: 1014.4656 - mae: 1014.8177 - val_loss: 1456.3506 - val_mae: 1456.7117\n",
            "Epoch 21/200\n",
            "70/70 [==============================] - 16s 232ms/step - loss: 1014.4431 - mae: 1014.7950 - val_loss: 1456.3223 - val_mae: 1456.6832\n",
            "Epoch 22/200\n",
            "70/70 [==============================] - 16s 232ms/step - loss: 1014.4189 - mae: 1014.7703 - val_loss: 1456.2914 - val_mae: 1456.6512\n",
            "Epoch 23/200\n",
            "70/70 [==============================] - 16s 232ms/step - loss: 1014.3922 - mae: 1014.7430 - val_loss: 1456.2565 - val_mae: 1456.6167\n",
            "Epoch 24/200\n",
            "70/70 [==============================] - 16s 232ms/step - loss: 1014.3616 - mae: 1014.7123 - val_loss: 1456.2175 - val_mae: 1456.5762\n",
            "Epoch 25/200\n",
            "70/70 [==============================] - 17s 234ms/step - loss: 1014.3273 - mae: 1014.6766 - val_loss: 1456.1737 - val_mae: 1456.5304\n",
            "Epoch 26/200\n",
            "70/70 [==============================] - 16s 232ms/step - loss: 1014.2886 - mae: 1014.6363 - val_loss: 1456.1235 - val_mae: 1456.4778\n",
            "Epoch 27/200\n",
            "70/70 [==============================] - 16s 233ms/step - loss: 1014.2444 - mae: 1014.5901 - val_loss: 1456.0660 - val_mae: 1456.4180\n",
            "Epoch 28/200\n",
            "70/70 [==============================] - 16s 231ms/step - loss: 1014.1940 - mae: 1014.5369 - val_loss: 1456.0009 - val_mae: 1456.3510\n",
            "Epoch 29/200\n",
            "70/70 [==============================] - 16s 233ms/step - loss: 1014.1366 - mae: 1014.4792 - val_loss: 1455.9259 - val_mae: 1456.2727\n",
            "Epoch 30/200\n",
            "70/70 [==============================] - 16s 232ms/step - loss: 1014.0706 - mae: 1014.4103 - val_loss: 1455.8405 - val_mae: 1456.1866\n",
            "Epoch 31/200\n",
            "70/70 [==============================] - 16s 232ms/step - loss: 1013.9945 - mae: 1014.3336 - val_loss: 1455.7410 - val_mae: 1456.0845\n",
            "Epoch 32/200\n",
            "70/70 [==============================] - 17s 236ms/step - loss: 1013.9062 - mae: 1014.2442 - val_loss: 1455.6245 - val_mae: 1455.9686\n",
            "Epoch 33/200\n",
            "70/70 [==============================] - 17s 234ms/step - loss: 1013.8004 - mae: 1014.1396 - val_loss: 1455.4846 - val_mae: 1455.8301\n",
            "Epoch 34/200\n",
            "70/70 [==============================] - 16s 232ms/step - loss: 1013.6738 - mae: 1014.0145 - val_loss: 1455.3162 - val_mae: 1455.6652\n",
            "Epoch 35/200\n",
            "70/70 [==============================] - 16s 234ms/step - loss: 1013.5191 - mae: 1013.8647 - val_loss: 1455.1105 - val_mae: 1455.4633\n",
            "Epoch 36/200\n",
            "70/70 [==============================] - 17s 236ms/step - loss: 1013.3311 - mae: 1013.6796 - val_loss: 1454.8555 - val_mae: 1455.2126\n",
            "Epoch 37/200\n",
            "70/70 [==============================] - 16s 233ms/step - loss: 1013.0923 - mae: 1013.4452 - val_loss: 1454.5319 - val_mae: 1454.8947\n",
            "Epoch 38/200\n",
            "70/70 [==============================] - 17s 234ms/step - loss: 1012.7850 - mae: 1013.1445 - val_loss: 1454.1110 - val_mae: 1454.4797\n",
            "Epoch 39/200\n",
            "70/70 [==============================] - 16s 233ms/step - loss: 1012.3820 - mae: 1012.7465 - val_loss: 1453.5459 - val_mae: 1453.9243\n",
            "Epoch 40/200\n",
            "70/70 [==============================] - 17s 234ms/step - loss: 1011.8399 - mae: 1012.2119 - val_loss: 1452.7793 - val_mae: 1453.1661\n",
            "Epoch 41/200\n",
            "70/70 [==============================] - 17s 234ms/step - loss: 1011.0863 - mae: 1011.4660 - val_loss: 1451.6846 - val_mae: 1452.0791\n",
            "Epoch 42/200\n",
            "70/70 [==============================] - 16s 233ms/step - loss: 1009.9584 - mae: 1010.3443 - val_loss: 1450.0118 - val_mae: 1450.4150\n",
            "Epoch 43/200\n",
            "70/70 [==============================] - 16s 232ms/step - loss: 1008.2374 - mae: 1008.6348 - val_loss: 1447.4366 - val_mae: 1447.8492\n",
            "Epoch 44/200\n",
            "70/70 [==============================] - 17s 234ms/step - loss: 1005.2180 - mae: 1005.6259 - val_loss: 1442.3972 - val_mae: 1442.8290\n",
            "Epoch 45/200\n",
            "70/70 [==============================] - 17s 235ms/step - loss: 998.9750 - mae: 999.3935 - val_loss: 1431.3861 - val_mae: 1431.8152\n",
            "Epoch 46/200\n",
            "70/70 [==============================] - 17s 234ms/step - loss: 983.5620 - mae: 983.9818 - val_loss: 1402.7810 - val_mae: 1403.2217\n",
            "Epoch 47/200\n",
            "70/70 [==============================] - 16s 232ms/step - loss: 933.6434 - mae: 934.0572 - val_loss: 1305.2445 - val_mae: 1305.5924\n",
            "Epoch 48/200\n",
            "70/70 [==============================] - 17s 234ms/step - loss: 794.5544 - mae: 794.8903 - val_loss: 1088.0356 - val_mae: 1088.4028\n",
            "Epoch 49/200\n",
            "70/70 [==============================] - 16s 233ms/step - loss: 710.1041 - mae: 710.3867 - val_loss: 979.4861 - val_mae: 979.8474\n",
            "Epoch 50/200\n",
            "70/70 [==============================] - 16s 232ms/step - loss: 697.1236 - mae: 697.4041 - val_loss: 1003.0499 - val_mae: 1003.3683\n",
            "Epoch 51/200\n",
            "70/70 [==============================] - 17s 236ms/step - loss: 693.1697 - mae: 693.4423 - val_loss: 974.6631 - val_mae: 974.9607\n",
            "Epoch 52/200\n",
            "70/70 [==============================] - 17s 235ms/step - loss: 686.6716 - mae: 686.9373 - val_loss: 976.1765 - val_mae: 976.4604\n",
            "Epoch 53/200\n",
            "70/70 [==============================] - 17s 238ms/step - loss: 688.3702 - mae: 688.6160 - val_loss: 1064.9631 - val_mae: 1065.2416\n",
            "Epoch 54/200\n",
            "70/70 [==============================] - 17s 234ms/step - loss: 692.2750 - mae: 692.5185 - val_loss: 952.8595 - val_mae: 953.1077\n",
            "Epoch 55/200\n",
            "70/70 [==============================] - 17s 235ms/step - loss: 689.4944 - mae: 689.7271 - val_loss: 951.0991 - val_mae: 951.3327\n",
            "Epoch 56/200\n",
            "70/70 [==============================] - 17s 239ms/step - loss: 685.6055 - mae: 685.8300 - val_loss: 969.9058 - val_mae: 970.1830\n",
            "Epoch 57/200\n",
            "70/70 [==============================] - 17s 234ms/step - loss: 683.8040 - mae: 684.0347 - val_loss: 1040.1669 - val_mae: 1040.3990\n",
            "Epoch 58/200\n",
            "70/70 [==============================] - 17s 238ms/step - loss: 683.5131 - mae: 683.7485 - val_loss: 952.8680 - val_mae: 953.1115\n",
            "Epoch 59/200\n",
            "70/70 [==============================] - 17s 235ms/step - loss: 684.6066 - mae: 684.8391 - val_loss: 1099.8362 - val_mae: 1100.1588\n",
            "Epoch 60/200\n",
            "70/70 [==============================] - 17s 235ms/step - loss: 686.2684 - mae: 686.5045 - val_loss: 970.7366 - val_mae: 970.9803\n",
            "Epoch 61/200\n",
            "70/70 [==============================] - 17s 234ms/step - loss: 684.5013 - mae: 684.7285 - val_loss: 975.3632 - val_mae: 975.6064\n",
            "Epoch 62/200\n",
            "70/70 [==============================] - 16s 233ms/step - loss: 680.7461 - mae: 680.9824 - val_loss: 956.6428 - val_mae: 956.8737\n",
            "Epoch 63/200\n",
            "70/70 [==============================] - 16s 232ms/step - loss: 683.6655 - mae: 683.9042 - val_loss: 963.2380 - val_mae: 963.4755\n",
            "Epoch 64/200\n",
            "70/70 [==============================] - 16s 232ms/step - loss: 683.9780 - mae: 684.2149 - val_loss: 966.0016 - val_mae: 966.2404\n",
            "Epoch 65/200\n",
            "70/70 [==============================] - 16s 233ms/step - loss: 685.4468 - mae: 685.6830 - val_loss: 1008.7119 - val_mae: 1008.9468\n",
            "Epoch 66/200\n",
            "70/70 [==============================] - 16s 233ms/step - loss: 682.2877 - mae: 682.5229 - val_loss: 970.7274 - val_mae: 970.9656\n",
            "Epoch 67/200\n",
            "70/70 [==============================] - 16s 232ms/step - loss: 680.6107 - mae: 680.8469 - val_loss: 1053.1440 - val_mae: 1053.4457\n",
            "Epoch 68/200\n",
            "70/70 [==============================] - 16s 232ms/step - loss: 684.1791 - mae: 684.4215 - val_loss: 1030.3081 - val_mae: 1030.6040\n",
            "Epoch 69/200\n",
            "70/70 [==============================] - 16s 233ms/step - loss: 683.4490 - mae: 683.6891 - val_loss: 966.7326 - val_mae: 966.9633\n",
            "Epoch 70/200\n",
            "70/70 [==============================] - 16s 233ms/step - loss: 685.8051 - mae: 686.0351 - val_loss: 955.4553 - val_mae: 955.7347\n",
            "Epoch 71/200\n",
            "70/70 [==============================] - 16s 232ms/step - loss: 681.9713 - mae: 682.2286 - val_loss: 983.9651 - val_mae: 984.2183\n",
            "Epoch 72/200\n",
            "70/70 [==============================] - 16s 230ms/step - loss: 680.0623 - mae: 680.3110 - val_loss: 959.8651 - val_mae: 960.1072\n",
            "Epoch 73/200\n",
            "70/70 [==============================] - 16s 230ms/step - loss: 680.6365 - mae: 680.8699 - val_loss: 947.2745 - val_mae: 947.5133\n",
            "Epoch 74/200\n",
            "70/70 [==============================] - 16s 231ms/step - loss: 681.6304 - mae: 681.8536 - val_loss: 968.7744 - val_mae: 969.0270\n",
            "Epoch 75/200\n",
            "70/70 [==============================] - 16s 233ms/step - loss: 682.3646 - mae: 682.5962 - val_loss: 962.1807 - val_mae: 962.4327\n",
            "Epoch 76/200\n",
            "70/70 [==============================] - 16s 233ms/step - loss: 679.9514 - mae: 680.1757 - val_loss: 957.5108 - val_mae: 957.7581\n",
            "Epoch 77/200\n",
            "70/70 [==============================] - 16s 233ms/step - loss: 681.1684 - mae: 681.3936 - val_loss: 1020.7389 - val_mae: 1020.9737\n",
            "Epoch 78/200\n",
            "70/70 [==============================] - 17s 236ms/step - loss: 680.4855 - mae: 680.7178 - val_loss: 943.8831 - val_mae: 944.1348\n",
            "Epoch 79/200\n",
            "70/70 [==============================] - 17s 235ms/step - loss: 681.2455 - mae: 681.4744 - val_loss: 962.8622 - val_mae: 963.1041\n",
            "Epoch 80/200\n",
            "70/70 [==============================] - 17s 235ms/step - loss: 683.1307 - mae: 683.3563 - val_loss: 954.3572 - val_mae: 954.6056\n",
            "Epoch 81/200\n",
            "70/70 [==============================] - 17s 240ms/step - loss: 681.5987 - mae: 681.8285 - val_loss: 966.7996 - val_mae: 967.1136\n",
            "Epoch 82/200\n",
            "70/70 [==============================] - 17s 236ms/step - loss: 680.2325 - mae: 680.4617 - val_loss: 946.6170 - val_mae: 946.8694\n",
            "Epoch 83/200\n",
            "70/70 [==============================] - 17s 234ms/step - loss: 680.4941 - mae: 680.7238 - val_loss: 968.3125 - val_mae: 968.5507\n",
            "Epoch 84/200\n",
            "70/70 [==============================] - 17s 235ms/step - loss: 678.7922 - mae: 679.0301 - val_loss: 970.4173 - val_mae: 970.6492\n",
            "Epoch 85/200\n",
            "70/70 [==============================] - 17s 234ms/step - loss: 680.7366 - mae: 680.9687 - val_loss: 944.6072 - val_mae: 944.8851\n",
            "Epoch 86/200\n",
            "70/70 [==============================] - 17s 234ms/step - loss: 679.2988 - mae: 679.5408 - val_loss: 1009.5867 - val_mae: 1009.8280\n",
            "Epoch 87/200\n",
            "70/70 [==============================] - 17s 234ms/step - loss: 681.8006 - mae: 682.0334 - val_loss: 998.1598 - val_mae: 998.3957\n",
            "Epoch 88/200\n",
            "70/70 [==============================] - 16s 232ms/step - loss: 680.1512 - mae: 680.3859 - val_loss: 959.2864 - val_mae: 959.5342\n",
            "Epoch 89/200\n",
            "70/70 [==============================] - 17s 236ms/step - loss: 677.7925 - mae: 678.0247 - val_loss: 962.6604 - val_mae: 962.9074\n",
            "Epoch 90/200\n",
            "70/70 [==============================] - 17s 234ms/step - loss: 677.1893 - mae: 677.4192 - val_loss: 951.1177 - val_mae: 951.3774\n",
            "Epoch 91/200\n",
            "70/70 [==============================] - 17s 238ms/step - loss: 679.5508 - mae: 679.7805 - val_loss: 933.2472 - val_mae: 933.5190\n",
            "Epoch 92/200\n",
            "70/70 [==============================] - 17s 237ms/step - loss: 678.0343 - mae: 678.2703 - val_loss: 977.9400 - val_mae: 978.1660\n",
            "Epoch 93/200\n",
            "70/70 [==============================] - 16s 233ms/step - loss: 676.2001 - mae: 676.4268 - val_loss: 962.4271 - val_mae: 962.6593\n",
            "Epoch 94/200\n",
            "70/70 [==============================] - 17s 234ms/step - loss: 677.9396 - mae: 678.1727 - val_loss: 950.7810 - val_mae: 951.0303\n",
            "Epoch 95/200\n",
            "70/70 [==============================] - 17s 234ms/step - loss: 677.6747 - mae: 677.9091 - val_loss: 989.9174 - val_mae: 990.1760\n",
            "Epoch 96/200\n",
            "70/70 [==============================] - 17s 235ms/step - loss: 675.6942 - mae: 675.9476 - val_loss: 937.6509 - val_mae: 937.9270\n",
            "Epoch 97/200\n",
            "70/70 [==============================] - 17s 236ms/step - loss: 675.3215 - mae: 675.5762 - val_loss: 962.5497 - val_mae: 962.8382\n",
            "Epoch 98/200\n",
            "70/70 [==============================] - 16s 233ms/step - loss: 676.8407 - mae: 677.0815 - val_loss: 973.8695 - val_mae: 974.1303\n",
            "Epoch 99/200\n",
            "70/70 [==============================] - 16s 233ms/step - loss: 679.4434 - mae: 679.6827 - val_loss: 937.3188 - val_mae: 937.5825\n",
            "Epoch 100/200\n",
            "70/70 [==============================] - 17s 235ms/step - loss: 674.8866 - mae: 675.1324 - val_loss: 982.7242 - val_mae: 982.9722\n",
            "Epoch 101/200\n",
            "70/70 [==============================] - 17s 234ms/step - loss: 671.2251 - mae: 671.4594 - val_loss: 977.7747 - val_mae: 978.0232\n",
            "Epoch 102/200\n",
            "70/70 [==============================] - 16s 233ms/step - loss: 675.4172 - mae: 675.6483 - val_loss: 955.2552 - val_mae: 955.5107\n",
            "Epoch 103/200\n",
            "70/70 [==============================] - 17s 238ms/step - loss: 675.2244 - mae: 675.4623 - val_loss: 968.0844 - val_mae: 968.3353\n",
            "Epoch 104/200\n",
            "70/70 [==============================] - 17s 237ms/step - loss: 669.3336 - mae: 669.5790 - val_loss: 931.7260 - val_mae: 931.9999\n",
            "Epoch 105/200\n",
            "70/70 [==============================] - 17s 238ms/step - loss: 677.8500 - mae: 678.0977 - val_loss: 939.3518 - val_mae: 939.6000\n",
            "Epoch 106/200\n",
            "70/70 [==============================] - 17s 237ms/step - loss: 675.5029 - mae: 675.7565 - val_loss: 1003.6914 - val_mae: 1003.9307\n",
            "Epoch 107/200\n",
            "70/70 [==============================] - 17s 235ms/step - loss: 672.1344 - mae: 672.3692 - val_loss: 948.3194 - val_mae: 948.5705\n",
            "Epoch 108/200\n",
            "70/70 [==============================] - 17s 234ms/step - loss: 675.6442 - mae: 675.8745 - val_loss: 964.4992 - val_mae: 964.7283\n",
            "Epoch 109/200\n",
            "70/70 [==============================] - 17s 234ms/step - loss: 670.2609 - mae: 670.4899 - val_loss: 977.7930 - val_mae: 978.0458\n",
            "Epoch 110/200\n",
            "70/70 [==============================] - 17s 236ms/step - loss: 668.7240 - mae: 668.9587 - val_loss: 932.6587 - val_mae: 932.9028\n",
            "Epoch 111/200\n",
            "70/70 [==============================] - 17s 236ms/step - loss: 671.9041 - mae: 672.1357 - val_loss: 960.9922 - val_mae: 961.2327\n",
            "Epoch 112/200\n",
            "70/70 [==============================] - 17s 236ms/step - loss: 673.2829 - mae: 673.5260 - val_loss: 970.8519 - val_mae: 971.0983\n",
            "Epoch 113/200\n",
            "70/70 [==============================] - 17s 234ms/step - loss: 671.5979 - mae: 671.8311 - val_loss: 956.2395 - val_mae: 956.4940\n",
            "Epoch 114/200\n",
            "70/70 [==============================] - 17s 234ms/step - loss: 674.6247 - mae: 674.8619 - val_loss: 1016.1619 - val_mae: 1016.3962\n",
            "Epoch 115/200\n",
            "70/70 [==============================] - 17s 234ms/step - loss: 669.3731 - mae: 669.6086 - val_loss: 968.6494 - val_mae: 968.8917\n",
            "Epoch 116/200\n",
            "70/70 [==============================] - 17s 234ms/step - loss: 668.4984 - mae: 668.7345 - val_loss: 938.8962 - val_mae: 939.1505\n",
            "Epoch 117/200\n",
            "70/70 [==============================] - 17s 236ms/step - loss: 667.9006 - mae: 668.1343 - val_loss: 934.7750 - val_mae: 935.0316\n",
            "Epoch 118/200\n",
            "70/70 [==============================] - 17s 235ms/step - loss: 669.2504 - mae: 669.4919 - val_loss: 942.9003 - val_mae: 943.1886\n",
            "Epoch 119/200\n",
            "70/70 [==============================] - 16s 233ms/step - loss: 669.2873 - mae: 669.5288 - val_loss: 925.1068 - val_mae: 925.3838\n",
            "Epoch 120/200\n",
            "70/70 [==============================] - 17s 235ms/step - loss: 672.3130 - mae: 672.5499 - val_loss: 944.7542 - val_mae: 944.9960\n",
            "Epoch 121/200\n",
            "70/70 [==============================] - 17s 238ms/step - loss: 667.8843 - mae: 668.1186 - val_loss: 961.3550 - val_mae: 961.5985\n",
            "Epoch 122/200\n",
            "70/70 [==============================] - 17s 237ms/step - loss: 667.3308 - mae: 667.5637 - val_loss: 933.5652 - val_mae: 933.8340\n",
            "Epoch 123/200\n",
            "70/70 [==============================] - 17s 237ms/step - loss: 668.8193 - mae: 669.0540 - val_loss: 946.0420 - val_mae: 946.2869\n",
            "Epoch 124/200\n",
            "70/70 [==============================] - 17s 236ms/step - loss: 914.4323 - mae: 914.7418 - val_loss: 1455.8826 - val_mae: 1456.2743\n",
            "Epoch 125/200\n",
            "70/70 [==============================] - 17s 238ms/step - loss: 1013.1113 - mae: 1013.4884 - val_loss: 1449.0432 - val_mae: 1449.4755\n",
            "Epoch 126/200\n",
            "70/70 [==============================] - 17s 236ms/step - loss: 804.8558 - mae: 805.2626 - val_loss: 1034.2821 - val_mae: 1034.6217\n",
            "Epoch 127/200\n",
            "70/70 [==============================] - 17s 236ms/step - loss: 702.9207 - mae: 703.2111 - val_loss: 987.9024 - val_mae: 988.1857\n",
            "Epoch 128/200\n",
            "70/70 [==============================] - 17s 233ms/step - loss: 696.3577 - mae: 696.6219 - val_loss: 990.9788 - val_mae: 991.2374\n",
            "Epoch 129/200\n",
            "70/70 [==============================] - 17s 234ms/step - loss: 698.3499 - mae: 698.5960 - val_loss: 954.4316 - val_mae: 954.8088\n",
            "Epoch 130/200\n",
            "70/70 [==============================] - 17s 237ms/step - loss: 693.2927 - mae: 693.5533 - val_loss: 978.3147 - val_mae: 978.5520\n",
            "Epoch 131/200\n",
            "70/70 [==============================] - 17s 236ms/step - loss: 690.9449 - mae: 691.1810 - val_loss: 995.8574 - val_mae: 996.1298\n",
            "Epoch 132/200\n",
            "70/70 [==============================] - 17s 237ms/step - loss: 692.2271 - mae: 692.4563 - val_loss: 990.4100 - val_mae: 990.6629\n",
            "Epoch 133/200\n",
            "70/70 [==============================] - 17s 235ms/step - loss: 686.7867 - mae: 687.0201 - val_loss: 973.8782 - val_mae: 974.1227\n",
            "Epoch 134/200\n",
            "70/70 [==============================] - 17s 234ms/step - loss: 686.3345 - mae: 686.5591 - val_loss: 952.7690 - val_mae: 953.0428\n",
            "Epoch 135/200\n",
            "70/70 [==============================] - 17s 233ms/step - loss: 688.1213 - mae: 688.3481 - val_loss: 961.3332 - val_mae: 961.5688\n",
            "Epoch 136/200\n",
            "70/70 [==============================] - 17s 239ms/step - loss: 683.6544 - mae: 683.8832 - val_loss: 988.8257 - val_mae: 989.0921\n",
            "Epoch 137/200\n",
            "70/70 [==============================] - 17s 239ms/step - loss: 684.9274 - mae: 685.1569 - val_loss: 990.2086 - val_mae: 990.5516\n",
            "Epoch 138/200\n",
            "70/70 [==============================] - 17s 238ms/step - loss: 691.0530 - mae: 691.2974 - val_loss: 978.7034 - val_mae: 979.0138\n",
            "Epoch 139/200\n",
            "70/70 [==============================] - 17s 237ms/step - loss: 690.6311 - mae: 690.8618 - val_loss: 1019.3060 - val_mae: 1019.5694\n",
            "Epoch 140/200\n",
            "70/70 [==============================] - 17s 239ms/step - loss: 686.6137 - mae: 686.8379 - val_loss: 963.2972 - val_mae: 963.5265\n",
            "Epoch 141/200\n",
            "70/70 [==============================] - 17s 238ms/step - loss: 685.8470 - mae: 686.0734 - val_loss: 1016.1356 - val_mae: 1016.4764\n",
            "Epoch 142/200\n",
            "70/70 [==============================] - 17s 236ms/step - loss: 687.6075 - mae: 687.8423 - val_loss: 955.0912 - val_mae: 955.3254\n",
            "Epoch 143/200\n",
            "70/70 [==============================] - 17s 235ms/step - loss: 685.1299 - mae: 685.3503 - val_loss: 959.0046 - val_mae: 959.2344\n",
            "Epoch 144/200\n",
            "70/70 [==============================] - 17s 246ms/step - loss: 687.3514 - mae: 687.5760 - val_loss: 981.9796 - val_mae: 982.2316\n",
            "Epoch 145/200\n",
            "70/70 [==============================] - 18s 249ms/step - loss: 681.8543 - mae: 682.0781 - val_loss: 948.5272 - val_mae: 948.8077\n",
            "Epoch 146/200\n",
            "70/70 [==============================] - 17s 236ms/step - loss: 681.9058 - mae: 682.1251 - val_loss: 944.6985 - val_mae: 944.9849\n",
            "Epoch 147/200\n",
            "70/70 [==============================] - 17s 237ms/step - loss: 686.0271 - mae: 686.2542 - val_loss: 967.2643 - val_mae: 967.5247\n",
            "Epoch 148/200\n",
            "70/70 [==============================] - 17s 237ms/step - loss: 684.4387 - mae: 684.6613 - val_loss: 943.7120 - val_mae: 943.9748\n",
            "Epoch 149/200\n",
            "70/70 [==============================] - 17s 235ms/step - loss: 686.0709 - mae: 686.2932 - val_loss: 966.3286 - val_mae: 966.5461\n",
            "Epoch 150/200\n",
            "70/70 [==============================] - 17s 236ms/step - loss: 682.9217 - mae: 683.1412 - val_loss: 970.9244 - val_mae: 971.2063\n",
            "Epoch 151/200\n",
            "70/70 [==============================] - 17s 234ms/step - loss: 681.5258 - mae: 681.7533 - val_loss: 944.3831 - val_mae: 944.6837\n",
            "Epoch 152/200\n",
            "70/70 [==============================] - 17s 235ms/step - loss: 683.9620 - mae: 684.1914 - val_loss: 974.6218 - val_mae: 974.8558\n",
            "Epoch 153/200\n",
            "70/70 [==============================] - 17s 235ms/step - loss: 680.4604 - mae: 680.6924 - val_loss: 1006.1062 - val_mae: 1006.3239\n",
            "Epoch 154/200\n",
            "70/70 [==============================] - 16s 233ms/step - loss: 678.2330 - mae: 678.4625 - val_loss: 1000.2578 - val_mae: 1000.5208\n",
            "Epoch 155/200\n",
            "70/70 [==============================] - 17s 234ms/step - loss: 676.1507 - mae: 676.3787 - val_loss: 944.6933 - val_mae: 944.9164\n",
            "Epoch 156/200\n",
            "70/70 [==============================] - 17s 239ms/step - loss: 678.7776 - mae: 679.0018 - val_loss: 960.7902 - val_mae: 961.0112\n",
            "Epoch 157/200\n",
            "70/70 [==============================] - 17s 239ms/step - loss: 677.8613 - mae: 678.1049 - val_loss: 998.6996 - val_mae: 998.9274\n",
            "Epoch 158/200\n",
            "70/70 [==============================] - 17s 243ms/step - loss: 678.4647 - mae: 678.7035 - val_loss: 978.6416 - val_mae: 978.8888\n",
            "Epoch 159/200\n",
            "70/70 [==============================] - 17s 234ms/step - loss: 677.8663 - mae: 678.1066 - val_loss: 1002.7105 - val_mae: 1002.9542\n",
            "Epoch 160/200\n",
            "70/70 [==============================] - 17s 235ms/step - loss: 676.4620 - mae: 676.6985 - val_loss: 976.7732 - val_mae: 977.0112\n",
            "Epoch 161/200\n",
            "70/70 [==============================] - 17s 239ms/step - loss: 676.3765 - mae: 676.6143 - val_loss: 992.4244 - val_mae: 992.6722\n",
            "Epoch 162/200\n",
            "70/70 [==============================] - 17s 243ms/step - loss: 676.5060 - mae: 676.7391 - val_loss: 977.8834 - val_mae: 978.1218\n",
            "Epoch 163/200\n",
            "70/70 [==============================] - 17s 238ms/step - loss: 674.2047 - mae: 674.4407 - val_loss: 999.6154 - val_mae: 999.8408\n",
            "Epoch 164/200\n",
            "70/70 [==============================] - 17s 238ms/step - loss: 673.7513 - mae: 673.9916 - val_loss: 980.1417 - val_mae: 980.3757\n",
            "Epoch 165/200\n",
            "70/70 [==============================] - 17s 241ms/step - loss: 676.2511 - mae: 676.4855 - val_loss: 952.3190 - val_mae: 952.5611\n",
            "Epoch 166/200\n",
            "70/70 [==============================] - 17s 240ms/step - loss: 673.5752 - mae: 673.8077 - val_loss: 946.0361 - val_mae: 946.2786\n",
            "Epoch 167/200\n",
            "70/70 [==============================] - 17s 245ms/step - loss: 675.2864 - mae: 675.5174 - val_loss: 955.0358 - val_mae: 955.2827\n",
            "Epoch 168/200\n",
            "70/70 [==============================] - 17s 240ms/step - loss: 671.8400 - mae: 672.0837 - val_loss: 942.6810 - val_mae: 942.9300\n",
            "Epoch 169/200\n",
            "70/70 [==============================] - 17s 240ms/step - loss: 671.3361 - mae: 671.5682 - val_loss: 965.9545 - val_mae: 966.2143\n",
            "Epoch 170/200\n",
            "70/70 [==============================] - 17s 240ms/step - loss: 669.8170 - mae: 670.0510 - val_loss: 951.0223 - val_mae: 951.2580\n",
            "Epoch 171/200\n",
            "70/70 [==============================] - 17s 239ms/step - loss: 668.7709 - mae: 669.0041 - val_loss: 941.0126 - val_mae: 941.2961\n",
            "Epoch 172/200\n",
            "70/70 [==============================] - 17s 241ms/step - loss: 671.9715 - mae: 672.2023 - val_loss: 967.0627 - val_mae: 967.3192\n",
            "Epoch 173/200\n",
            "70/70 [==============================] - 18s 256ms/step - loss: 671.6100 - mae: 671.8728 - val_loss: 986.1919 - val_mae: 986.4795\n",
            "Epoch 174/200\n",
            "70/70 [==============================] - 17s 242ms/step - loss: 670.6638 - mae: 670.9185 - val_loss: 957.3587 - val_mae: 957.6239\n",
            "Epoch 175/200\n",
            "70/70 [==============================] - 17s 239ms/step - loss: 671.2668 - mae: 671.5074 - val_loss: 991.7646 - val_mae: 992.0348\n",
            "Epoch 176/200\n",
            "70/70 [==============================] - 17s 239ms/step - loss: 666.1561 - mae: 666.3984 - val_loss: 966.6301 - val_mae: 966.8768\n",
            "Epoch 177/200\n",
            "70/70 [==============================] - 17s 241ms/step - loss: 667.6669 - mae: 667.9077 - val_loss: 959.0676 - val_mae: 959.3423\n",
            "Epoch 178/200\n",
            "70/70 [==============================] - 17s 240ms/step - loss: 671.0316 - mae: 671.2782 - val_loss: 960.5277 - val_mae: 960.7737\n",
            "Epoch 179/200\n",
            "70/70 [==============================] - 17s 242ms/step - loss: 667.9240 - mae: 668.1559 - val_loss: 935.4427 - val_mae: 935.7036\n",
            "Epoch 180/200\n",
            "70/70 [==============================] - 17s 242ms/step - loss: 671.3402 - mae: 671.5714 - val_loss: 949.4987 - val_mae: 949.7740\n",
            "Epoch 181/200\n",
            "70/70 [==============================] - 17s 239ms/step - loss: 672.6982 - mae: 672.9319 - val_loss: 952.7313 - val_mae: 952.9781\n",
            "Epoch 182/200\n",
            "70/70 [==============================] - 17s 238ms/step - loss: 672.5866 - mae: 672.8209 - val_loss: 938.7188 - val_mae: 939.0257\n",
            "Epoch 183/200\n",
            "70/70 [==============================] - 17s 236ms/step - loss: 672.4996 - mae: 672.7393 - val_loss: 968.0483 - val_mae: 968.2708\n",
            "Epoch 184/200\n",
            "70/70 [==============================] - 17s 236ms/step - loss: 669.2140 - mae: 669.4399 - val_loss: 937.4938 - val_mae: 937.7371\n",
            "Epoch 185/200\n",
            "70/70 [==============================] - 17s 237ms/step - loss: 671.5518 - mae: 671.7856 - val_loss: 978.8170 - val_mae: 979.0486\n",
            "Epoch 186/200\n",
            "70/70 [==============================] - 17s 238ms/step - loss: 664.9656 - mae: 665.1906 - val_loss: 959.1533 - val_mae: 959.4023\n",
            "Epoch 187/200\n",
            "70/70 [==============================] - 17s 247ms/step - loss: 664.4507 - mae: 664.6799 - val_loss: 949.2147 - val_mae: 949.4426\n",
            "Epoch 188/200\n",
            "70/70 [==============================] - 17s 245ms/step - loss: 663.5116 - mae: 663.7409 - val_loss: 972.0869 - val_mae: 972.3070\n",
            "Epoch 189/200\n",
            "70/70 [==============================] - 17s 242ms/step - loss: 664.3700 - mae: 664.5977 - val_loss: 963.9962 - val_mae: 964.2331\n",
            "Epoch 190/200\n",
            "70/70 [==============================] - 17s 239ms/step - loss: 681.0970 - mae: 681.3655 - val_loss: 977.2313 - val_mae: 977.4823\n",
            "Epoch 191/200\n",
            "70/70 [==============================] - 17s 240ms/step - loss: 673.9955 - mae: 674.2294 - val_loss: 934.7178 - val_mae: 934.9814\n",
            "Epoch 192/200\n",
            "70/70 [==============================] - 17s 239ms/step - loss: 673.3016 - mae: 673.5405 - val_loss: 976.6317 - val_mae: 976.8997\n",
            "Epoch 193/200\n",
            "70/70 [==============================] - 17s 236ms/step - loss: 667.2706 - mae: 667.5052 - val_loss: 955.5073 - val_mae: 955.7643\n",
            "Epoch 194/200\n",
            "70/70 [==============================] - 17s 238ms/step - loss: 666.2576 - mae: 666.4910 - val_loss: 958.8532 - val_mae: 959.1020\n",
            "Epoch 195/200\n",
            "70/70 [==============================] - 17s 239ms/step - loss: 665.4391 - mae: 665.6644 - val_loss: 962.2350 - val_mae: 962.4960\n",
            "Epoch 196/200\n",
            "70/70 [==============================] - 17s 238ms/step - loss: 667.3261 - mae: 667.5567 - val_loss: 1010.7529 - val_mae: 1010.9893\n",
            "Epoch 197/200\n",
            "70/70 [==============================] - 17s 241ms/step - loss: 666.2369 - mae: 666.4589 - val_loss: 991.1550 - val_mae: 991.3986\n",
            "Epoch 198/200\n",
            "70/70 [==============================] - 17s 239ms/step - loss: 667.1828 - mae: 667.4080 - val_loss: 960.4884 - val_mae: 960.7291\n",
            "Epoch 199/200\n",
            "70/70 [==============================] - 17s 243ms/step - loss: 666.5155 - mae: 666.7410 - val_loss: 950.4331 - val_mae: 950.6746\n",
            "Epoch 200/200\n",
            "70/70 [==============================] - 17s 242ms/step - loss: 667.3307 - mae: 667.5571 - val_loss: 952.4019 - val_mae: 952.6437\n"
          ],
          "name": "stdout"
        }
      ]
    },
    {
      "cell_type": "code",
      "metadata": {
        "colab": {
          "base_uri": "https://localhost:8080/"
        },
        "id": "vzvuT9Lzmmwp",
        "outputId": "f91df7d0-a82d-47a9-f893-cdbf82b341dc"
      },
      "source": [
        "# See model summary\n",
        "model.summary()"
      ],
      "execution_count": 42,
      "outputs": [
        {
          "output_type": "stream",
          "text": [
            "Model: \"sequential_3\"\n",
            "_________________________________________________________________\n",
            "Layer (type)                 Output Shape              Param #   \n",
            "=================================================================\n",
            "lstm_6 (LSTM)                (None, None, 60)          14880     \n",
            "_________________________________________________________________\n",
            "lstm_7 (LSTM)                (None, 128)               96768     \n",
            "_________________________________________________________________\n",
            "dense_9 (Dense)              (None, 128)               16512     \n",
            "_________________________________________________________________\n",
            "dense_10 (Dense)             (None, 64)                8256      \n",
            "_________________________________________________________________\n",
            "dense_11 (Dense)             (None, 1)                 65        \n",
            "=================================================================\n",
            "Total params: 136,481\n",
            "Trainable params: 136,481\n",
            "Non-trainable params: 0\n",
            "_________________________________________________________________\n"
          ],
          "name": "stdout"
        }
      ]
    },
    {
      "cell_type": "markdown",
      "metadata": {
        "id": "REHSt9NMf7f0"
      },
      "source": [
        "## Evaluate"
      ]
    },
    {
      "cell_type": "code",
      "metadata": {
        "colab": {
          "base_uri": "https://localhost:8080/",
          "height": 295
        },
        "id": "aWfs3_KaudNo",
        "outputId": "e6862354-67fd-423f-8785-5cc009b9539d"
      },
      "source": [
        "plt.plot(history.history['mae'])\n",
        "plt.plot(history.history['val_mae'])\n",
        "plt.title('Model Mean Absolute Error')\n",
        "plt.ylabel('mae')\n",
        "plt.xlabel('epoch')\n",
        "plt.legend(['train', 'test'], loc='upper left')\n",
        "plt.show()"
      ],
      "execution_count": 43,
      "outputs": [
        {
          "output_type": "display_data",
          "data": {
            "image/png": "[encoded data removed]",
            "text/plain": [
              "<Figure size 432x288 with 1 Axes>"
            ]
          },
          "metadata": {
            "tags": [],
            "needs_background": "light"
          }
        }
      ]
    },
    {
      "cell_type": "code",
      "metadata": {
        "colab": {
          "base_uri": "https://localhost:8080/",
          "height": 295
        },
        "id": "4MG221a6r84l",
        "outputId": "40211799-533b-4c65-b071-19308e86a47e"
      },
      "source": [
        "plt.plot(history.history['loss'])\n",
        "plt.plot(history.history['val_loss'])\n",
        "plt.title('Model Loss')\n",
        "plt.ylabel('loss')\n",
        "plt.xlabel('epoch')\n",
        "plt.legend(['train', 'test'], loc='upper left')\n",
        "plt.show()"
      ],
      "execution_count": 44,
      "outputs": [
        {
          "output_type": "display_data",
          "data": {
            "image/png": "[encoded data removed]",
            "text/plain": [
              "<Figure size 432x288 with 1 Axes>"
            ]
          },
          "metadata": {
            "tags": [],
            "needs_background": "light"
          }
        }
      ]
    },
    {
      "cell_type": "code",
      "metadata": {
        "id": "XvNenN3CnoBi"
      },
      "source": [
        ""
      ],
      "execution_count": null,
      "outputs": []
    }
  ]
}